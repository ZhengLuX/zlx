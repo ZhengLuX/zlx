{
 "cells": [
  {
   "cell_type": "code",
   "execution_count": 2,
   "id": "1b5dd105-f78c-4e4e-8e6e-6f9a2f863fa7",
   "metadata": {},
   "outputs": [],
   "source": [
    "import os\n",
    "import numpy as np\n",
    "import nibabel as nib\n",
    "import json"
   ]
  },
  {
   "cell_type": "markdown",
   "id": "489fcf2f-6d0c-42d4-bf02-8a2fe4771cf0",
   "metadata": {},
   "source": [
    "# 划分数据"
   ]
  },
  {
   "cell_type": "code",
   "execution_count": 3,
   "id": "a60e63f7-22b0-4817-896e-003c68bff7ff",
   "metadata": {},
   "outputs": [
    {
     "name": "stdout",
     "output_type": "stream",
     "text": [
      "折 1:\n",
      "训练集大小: 0\n",
      "验证集大小: 7062\n",
      "保存折 1 的数据列表到 D:/zlx/Medical_Image_Segmentation/data/splits/fold_1.json\n"
     ]
    }
   ],
   "source": [
    "# 获取数据集\n",
    "ROOT_PATH = \"D:/zlx/Medical_Image_Segmentation/data/patches/\"\n",
    "IMAGE_PATH = os.path.join(ROOT_PATH, \"image\")\n",
    "LABEL_PATH = os.path.join(ROOT_PATH, \"label\")\n",
    "\n",
    "image_files = [os.path.join(IMAGE_PATH, f) for f in os.listdir(IMAGE_PATH) if f.endswith(\".nii.gz\")]\n",
    "label_files = [os.path.join(LABEL_PATH, f) for f in os.listdir(LABEL_PATH) if f.endswith(\".nii.gz\")]\n",
    "\n",
    "# 确保图像和标签数量匹配\n",
    "if len(image_files) != len(label_files):\n",
    "    raise ValueError(\"图像和标签文件数量不匹配，请检查数据。\")\n",
    "\n",
    "# 设置交叉验证的折数\n",
    "num_folds = 1\n",
    "num_total = len(image_files)\n",
    "indices = np.arange(num_total)\n",
    "np.random.seed(42)\n",
    "np.random.shuffle(indices)\n",
    "\n",
    "# 创建多折数据集划分\n",
    "fold_size = num_total // num_folds\n",
    "folds = []\n",
    "for i in range(num_folds):\n",
    "    val_indices = indices[i * fold_size: (i + 1) * fold_size] if i != num_folds - 1 else indices[i * fold_size:]\n",
    "    train_indices = np.setdiff1d(indices, val_indices)\n",
    "\n",
    "    train_images = [image_files[idx] for idx in train_indices]\n",
    "    train_labels = [label_files[idx] for idx in train_indices]\n",
    "    val_images = [image_files[idx] for idx in val_indices]\n",
    "    val_labels = [label_files[idx] for idx in val_indices]\n",
    "\n",
    "    folds.append({\n",
    "        'train_images': train_images,\n",
    "        'train_labels': train_labels,\n",
    "        'val_images': val_images,\n",
    "        'val_labels': val_labels\n",
    "    })\n",
    "\n",
    "# 打印每一折的数据大小\n",
    "for i, fold in enumerate(folds):\n",
    "    print(f\"折 {i + 1}:\")\n",
    "    print(\"训练集大小:\", len(fold['train_images']))\n",
    "    print(\"验证集大小:\", len(fold['val_images']))\n",
    "\n",
    "# 保存每一折的数据集列表到文件\n",
    "OUTPUT_PATH = \"D:/zlx/Medical_Image_Segmentation/data/splits/\"\n",
    "os.makedirs(OUTPUT_PATH, exist_ok=True)\n",
    "\n",
    "for i, fold in enumerate(folds):\n",
    "    split_file_path = os.path.join(OUTPUT_PATH, f\"fold_{i + 1}.json\")\n",
    "    with open(split_file_path, 'w') as f:\n",
    "        json.dump(fold, f, indent=4)\n",
    "    print(f\"保存折 {i + 1} 的数据列表到 {split_file_path}\")"
   ]
  },
  {
   "cell_type": "code",
   "execution_count": null,
   "id": "014edd43-fc47-4fa9-8665-b1f8a130162d",
   "metadata": {},
   "outputs": [],
   "source": []
  }
 ],
 "metadata": {
  "kernelspec": {
   "display_name": "Python (3D Medical Segmentation)",
   "language": "python",
   "name": "3d_medical_seg"
  },
  "language_info": {
   "codemirror_mode": {
    "name": "ipython",
    "version": 3
   },
   "file_extension": ".py",
   "mimetype": "text/x-python",
   "name": "python",
   "nbconvert_exporter": "python",
   "pygments_lexer": "ipython3",
   "version": "3.10.14"
  }
 },
 "nbformat": 4,
 "nbformat_minor": 5
}
